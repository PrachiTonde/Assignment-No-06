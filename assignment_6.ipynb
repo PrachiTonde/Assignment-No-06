{
  "nbformat": 4,
  "nbformat_minor": 0,
  "metadata": {
    "colab": {
      "provenance": []
    },
    "kernelspec": {
      "name": "python3",
      "display_name": "Python 3"
    },
    "language_info": {
      "name": "python"
    }
  },
  "cells": [
    {
      "cell_type": "code",
      "execution_count": null,
      "metadata": {
        "colab": {
          "base_uri": "https://localhost:8080/"
        },
        "id": "kMw66mm3yiqR",
        "outputId": "f66428fa-cf93-4d1c-9477-51d11e3996dd"
      },
      "outputs": [
        {
          "output_type": "stream",
          "name": "stdout",
          "text": [
            "Enter the value of Load in kN: 2500\n",
            "Number of data values of radial distance: 5\n",
            "Depth: 6\n",
            "Enter radial distance in m\n",
            "1\n",
            "Stress:  30.962130445358056 kN/m^2\n",
            "Enter radial distance in m\n",
            "2\n",
            "Stress:  25.479163627894877 kN/m^2\n",
            "Enter radial distance in m\n",
            "3\n",
            "Stress:  18.98033449112347 kN/m^2\n",
            "Enter radial distance in m\n",
            "4\n",
            "Stress:  13.22290223969301 kN/m^2\n",
            "Enter radial distance in m\n",
            "5\n",
            "Stress:  8.871775810212231 kN/m^2\n"
          ]
        }
      ],
      "source": [
        "# Stress When depth is constant\n",
        "Q = float (input (\"Enter the value of Load in kN: \"))\n",
        "N= int (input (\"Number of data values of radial distance: \"))\n",
        "pi = 3.14159265359\n",
        "Z = float (input (\"Depth: \"))\n",
        "r = []\n",
        "for i in range (1, N+1):\n",
        "    print (\"Enter radial distance in m\".format (i)) #Indented this line\n",
        "    Value_r = input() #Indented this line #Remove float conversion here\n",
        "    if Value_r: #Check if Value_r is not empty\n",
        "        Value_r = float(Value_r) # Convert to float only if not empty\n",
        "        r.append(Value_r) #Indented this line\n",
        "        Stress = ((3*Q)/(2*pi*Z*Z) ) * (((1/ (1+((Value_r/Z) **2))) ) **2.5) # You probably meant to use Q instead of 0\n",
        "        print (\"Stress: \", Stress, \"kN/m^2\")\n",
        "    else:\n",
        "        print(\"No value entered. Skipping this iteration.\") #Inform the user"
      ]
    }
  ]
}